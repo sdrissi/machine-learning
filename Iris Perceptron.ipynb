{
 "cells": [
  {
   "cell_type": "code",
   "execution_count": 1,
   "metadata": {},
   "outputs": [
    {
     "data": {
      "text/html": [
       "<div>\n",
       "<style>\n",
       "    .dataframe thead tr:only-child th {\n",
       "        text-align: right;\n",
       "    }\n",
       "\n",
       "    .dataframe thead th {\n",
       "        text-align: left;\n",
       "    }\n",
       "\n",
       "    .dataframe tbody tr th {\n",
       "        vertical-align: top;\n",
       "    }\n",
       "</style>\n",
       "<table border=\"1\" class=\"dataframe\">\n",
       "  <thead>\n",
       "    <tr style=\"text-align: right;\">\n",
       "      <th></th>\n",
       "      <th>SepalLengthCm</th>\n",
       "      <th>SepalWidthCm</th>\n",
       "      <th>PetalLengthCm</th>\n",
       "      <th>PetalWidthCm</th>\n",
       "      <th>Species</th>\n",
       "    </tr>\n",
       "  </thead>\n",
       "  <tbody>\n",
       "    <tr>\n",
       "      <th>0</th>\n",
       "      <td>5.1</td>\n",
       "      <td>3.5</td>\n",
       "      <td>1.4</td>\n",
       "      <td>0.2</td>\n",
       "      <td>Iris-setosa</td>\n",
       "    </tr>\n",
       "    <tr>\n",
       "      <th>1</th>\n",
       "      <td>4.9</td>\n",
       "      <td>3.0</td>\n",
       "      <td>1.4</td>\n",
       "      <td>0.2</td>\n",
       "      <td>Iris-setosa</td>\n",
       "    </tr>\n",
       "    <tr>\n",
       "      <th>2</th>\n",
       "      <td>4.7</td>\n",
       "      <td>3.2</td>\n",
       "      <td>1.3</td>\n",
       "      <td>0.2</td>\n",
       "      <td>Iris-setosa</td>\n",
       "    </tr>\n",
       "    <tr>\n",
       "      <th>3</th>\n",
       "      <td>4.6</td>\n",
       "      <td>3.1</td>\n",
       "      <td>1.5</td>\n",
       "      <td>0.2</td>\n",
       "      <td>Iris-setosa</td>\n",
       "    </tr>\n",
       "    <tr>\n",
       "      <th>4</th>\n",
       "      <td>5.0</td>\n",
       "      <td>3.6</td>\n",
       "      <td>1.4</td>\n",
       "      <td>0.2</td>\n",
       "      <td>Iris-setosa</td>\n",
       "    </tr>\n",
       "  </tbody>\n",
       "</table>\n",
       "</div>"
      ],
      "text/plain": [
       "   SepalLengthCm  SepalWidthCm  PetalLengthCm  PetalWidthCm      Species\n",
       "0            5.1           3.5            1.4           0.2  Iris-setosa\n",
       "1            4.9           3.0            1.4           0.2  Iris-setosa\n",
       "2            4.7           3.2            1.3           0.2  Iris-setosa\n",
       "3            4.6           3.1            1.5           0.2  Iris-setosa\n",
       "4            5.0           3.6            1.4           0.2  Iris-setosa"
      ]
     },
     "execution_count": 1,
     "metadata": {},
     "output_type": "execute_result"
    }
   ],
   "source": [
    "%matplotlib inline\n",
    "\n",
    "import pandas as pd\n",
    "import matplotlib\n",
    "import matplotlib.pyplot as plt\n",
    "import numpy as npi\n",
    "from algos.classification.perceptron import Perceptron as Perceptron\n",
    "\n",
    "# import Iris dataset\n",
    "data = pd.read_csv(\"./data/iris/Iris.csv\")\n",
    "\n",
    "# Remove id column\n",
    "data = data.loc[:, \"SepalLengthCm\":]\n",
    "\n",
    "# list 5 first entries\n",
    "data.head()"
   ]
  },
  {
   "cell_type": "code",
   "execution_count": 2,
   "metadata": {},
   "outputs": [
    {
     "name": "stdout",
     "output_type": "stream",
     "text": [
      "['Iris-setosa' 'Iris-versicolor' 'Iris-virginica']\n"
     ]
    }
   ],
   "source": [
    "# describe with useful metrics the dataset\n",
    "species_distinct = data.Species.unique()\n",
    "print(species_distinct)"
   ]
  },
  {
   "cell_type": "code",
   "execution_count": 3,
   "metadata": {},
   "outputs": [
    {
     "name": "stdout",
     "output_type": "stream",
     "text": [
      "Setosa sepal mean length 5.006 petal mean length 1.464\n",
      "Versicolor sepal mean length 5.936 petal mean length 4.26\n"
     ]
    }
   ],
   "source": [
    "# group by species\n",
    "grouped = data.groupby(data.Species)\n",
    "\n",
    "# extract setosa and versicolor species\n",
    "setosa = grouped.get_group(\"Iris-setosa\")\n",
    "versicolor = grouped.get_group(\"Iris-versicolor\")\n",
    "\n",
    "# show mean of setosa and versicolor petal and sepal length\n",
    "print(\"Setosa sepal mean length\", setosa.SepalLengthCm.mean(), \"petal mean length\", setosa.PetalLengthCm.mean())\n",
    "print(\"Versicolor sepal mean length\", versicolor.SepalLengthCm.mean(), \"petal mean length\", versicolor.PetalLengthCm.mean())"
   ]
  },
  {
   "cell_type": "code",
   "execution_count": 4,
   "metadata": {},
   "outputs": [
    {
     "data": {
      "image/png": "[encoded data removed]",
      "text/plain": [
       "<matplotlib.figure.Figure at 0x105a16da0>"
      ]
     },
     "metadata": {},
     "output_type": "display_data"
    }
   ],
   "source": [
    "# plot setosa and versicolor setal vs petal length\n",
    "\n",
    "plt.plot(setosa[\"SepalLengthCm\"], setosa[\"PetalLengthCm\"], 'ro', label=\"Setosa\")\n",
    "plt.plot(versicolor[\"SepalLengthCm\"], versicolor[\"PetalLengthCm\"], 'bx', label=\"Versicolor\")\n",
    "plt.xlabel(\"Sepal length (cm)\")\n",
    "plt.ylabel(\"Petal length (cm)\")\n",
    "plt.legend(loc=\"upper left\")\n",
    "plt.show()"
   ]
  },
  {
   "cell_type": "code",
   "execution_count": 5,
   "metadata": {},
   "outputs": [
    {
     "name": "stdout",
     "output_type": "stream",
     "text": [
      "Errors:  [1, 3, 3, 2, 1, 0, 0, 0, 0, 0] , weights: [ 0.4   0.7  -1.84]\n"
     ]
    }
   ],
   "source": [
    "X_setosa_versicolor = pd.concat([setosa, versicolor], axis=0)\n",
    "X = X_setosa_versicolor.iloc[:, [0, 2]].values\n",
    "y = X_setosa_versicolor.iloc[:, 4].values\n",
    "\n",
    "y = npi.where(y == \"Iris-setosa\", 1 , -1)\n",
    "\n",
    "pp = Perceptron(eta=0.1, n_iter=10)\n",
    "pp.fit(X, y)\n",
    "print(\"Errors: \", pp.errors_, \", weights:\", pp.w_)"
   ]
  },
  {
   "cell_type": "code",
   "execution_count": 6,
   "metadata": {},
   "outputs": [
    {
     "data": {
      "image/png": "[encoded data removed]",
      "text/plain": [
       "<matplotlib.figure.Figure at 0x105a13d30>"
      ]
     },
     "metadata": {},
     "output_type": "display_data"
    }
   ],
   "source": [
    "plt.plot(range(1, pp.n_iter + 1), pp.errors_, \"-o\")\n",
    "plt.xlabel(\"Epochs\")\n",
    "plt.ylabel(\"Nb misclassifications\")\n",
    "plt.show()"
   ]
  },
  {
   "cell_type": "code",
   "execution_count": null,
   "metadata": {
    "collapsed": true
   },
   "outputs": [],
   "source": []
  }
 ],
 "metadata": {
  "kernelspec": {
   "display_name": "Python 3",
   "language": "python",
   "name": "python3"
  },
  "language_info": {
   "codemirror_mode": {
    "name": "ipython",
    "version": 3
   },
   "file_extension": ".py",
   "mimetype": "text/x-python",
   "name": "python",
   "nbconvert_exporter": "python",
   "pygments_lexer": "ipython3",
   "version": "3.6.1"
  }
 },
 "nbformat": 4,
 "nbformat_minor": 2
}
